{
 "cells": [
  {
   "cell_type": "code",
   "execution_count": 1,
   "id": "63be5432",
   "metadata": {},
   "outputs": [
    {
     "name": "stdout",
     "output_type": "stream",
     "text": [
      "Jupyter environment detected. Enabling Open3D WebVisualizer.\n",
      "[Open3D INFO] WebRTC GUI backend enabled.\n",
      "[Open3D INFO] WebRTCWindowSystem: HTTP handshake server disabled.\n"
     ]
    }
   ],
   "source": [
    "import laspy\n",
    "import open3d as o3d\n",
    "import numpy as np\n",
    "import matplotlib.pyplot as plt\n",
    "import pandas as pd"
   ]
  },
  {
   "cell_type": "code",
   "execution_count": 3,
   "id": "5cb60b31",
   "metadata": {},
   "outputs": [],
   "source": [
    "path = \"/home/armin/Documents/PointCloud/\"\n",
    "filename = \"NW.las\"\n",
    "\n",
    "las = laspy.read(path + filename)"
   ]
  },
  {
   "cell_type": "code",
   "execution_count": 4,
   "id": "b285406e",
   "metadata": {},
   "outputs": [
    {
     "name": "stdout",
     "output_type": "stream",
     "text": [
      "<LasHeader(1.2, <PointFormat(1, 0 bytes of extra dims)>)>\n",
      "<PointFormat(1, 0 bytes of extra dims)>\n",
      "55164840\n",
      "[<GeoKeyDirectoryVlr(23 geo_keys)>, <GeoDoubleParamsVlr([c_double(0.0), c_double(500000.0), c_double(0.0), c_double(-93.0), c_double(0.9996), c_double(1.0), c_double(6378137.0), c_double(298.2572221010042), c_double(0.0), c_double(0.017453292519943278)])>, <GeoAsciiParamsVlr(['NAD83 / UTM zone 15N|projection: Transverse Mercator|NAVD88 - Geoid03 (Meters)|NAD83|', ''])>, <VLR(user_id: 'NIIRS10', record_id: '4', data len: 10)>, <VLR(user_id: 'NIIRS10', record_id: '1', data len: 26)>]\n"
     ]
    }
   ],
   "source": [
    "print(las.header)\n",
    "print(las.header.point_format)\n",
    "print(las.header.point_count)\n",
    "print(las.vlrs)"
   ]
  },
  {
   "cell_type": "code",
   "execution_count": 5,
   "id": "312492fc",
   "metadata": {},
   "outputs": [
    {
     "data": {
      "text/plain": [
       "['X',\n",
       " 'Y',\n",
       " 'Z',\n",
       " 'intensity',\n",
       " 'return_number',\n",
       " 'number_of_returns',\n",
       " 'scan_direction_flag',\n",
       " 'edge_of_flight_line',\n",
       " 'classification',\n",
       " 'synthetic',\n",
       " 'key_point',\n",
       " 'withheld',\n",
       " 'scan_angle_rank',\n",
       " 'user_data',\n",
       " 'point_source_id',\n",
       " 'gps_time']"
      ]
     },
     "execution_count": 5,
     "metadata": {},
     "output_type": "execute_result"
    }
   ],
   "source": [
    "list(las.point_format.dimension_names)"
   ]
  },
  {
   "cell_type": "code",
   "execution_count": 7,
   "id": "e58ce000",
   "metadata": {},
   "outputs": [],
   "source": [
    "point_data = np.stack([las.X, las.Y, las.Z], axis=0).transpose((1, 0))\n",
    "#color_data = np.stack([las.red, las.green, las.blue], axis=0).transpose((1, 0)) / 65024\n",
    "#all_data = np.hstack((point_data, color_data))"
   ]
  },
  {
   "cell_type": "code",
   "execution_count": 8,
   "id": "7c2a9f1a",
   "metadata": {},
   "outputs": [],
   "source": [
    "geom = o3d.geometry.PointCloud()\n",
    "geom.points = o3d.utility.Vector3dVector(point_data)\n",
    "# geom.colors = o3d.utility.Vector3dVector(color_data)\n",
    "\n",
    "#cf = o3d.geometry.create_mesh_coordinate_frame()\n",
    "o3d.visualization.draw_geometries([geom])"
   ]
  },
  {
   "cell_type": "code",
   "execution_count": null,
   "id": "dff1cc69",
   "metadata": {},
   "outputs": [],
   "source": []
  }
 ],
 "metadata": {
  "kernelspec": {
   "display_name": "Python 3 (ipykernel)",
   "language": "python",
   "name": "python3"
  },
  "language_info": {
   "codemirror_mode": {
    "name": "ipython",
    "version": 3
   },
   "file_extension": ".py",
   "mimetype": "text/x-python",
   "name": "python",
   "nbconvert_exporter": "python",
   "pygments_lexer": "ipython3",
   "version": "3.10.0"
  }
 },
 "nbformat": 4,
 "nbformat_minor": 5
}
